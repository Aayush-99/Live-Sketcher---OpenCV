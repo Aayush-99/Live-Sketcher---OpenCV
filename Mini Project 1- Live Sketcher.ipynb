{
 "cells": [
  {
   "cell_type": "markdown",
   "metadata": {},
   "source": [
    "# Live Sketcher App"
   ]
  },
  {
   "cell_type": "code",
   "execution_count": null,
   "metadata": {},
   "outputs": [],
   "source": [
    "import cv2\n",
    "import numpy as np\n",
    "\n",
    "# Sketch generating function\n",
    "def sketch(image):\n",
    "    #converting image to grayscale\n",
    "    gray_img = cv2.cvtColor(image, cv2.COLOR_BGR2GRAY)\n",
    "    \n",
    "    #remove noise in image using Bilateral Filter\n",
    "    gray_img_blur = cv2.bilateralFilter(gray_img, 9,75,75)\n",
    "    \n",
    "    #Extract edges\n",
    "    canny_edges = cv2.Canny(gray_img_blur, 10, 30)\n",
    "    \n",
    "    # Do an invert binarize the image \n",
    "    ret, mask = cv2.threshold(canny_edges, 75, 255, cv2.THRESH_BINARY_INV)\n",
    "    return mask\n",
    "\n",
    "#initialise webcam, imgweb is the object provided by Video Capture\n",
    "imgweb = cv2.VideoCapture(0)\n",
    "\n",
    "# It contains a boolean indicating if it was sucessful (ret)\n",
    "# It also contains the images collected from the webcam (frame)\n",
    "while (True):\n",
    "    ret, frame = imgweb.read()\n",
    "    cv2.imshow('Live Sketcher', sketch(frame))\n",
    "    if cv2.waitKey(1) == 13:                #13 is the Enter Key\n",
    "        break\n",
    "\n",
    "\n",
    "# Release camera and close windows\n",
    "imgweb.release()\n",
    "cv2.destroyAllWindows()"
   ]
  },
  {
   "cell_type": "code",
   "execution_count": null,
   "metadata": {},
   "outputs": [],
   "source": []
  }
 ],
 "metadata": {
  "kernelspec": {
   "display_name": "Python 3",
   "language": "python",
   "name": "python3"
  },
  "language_info": {
   "codemirror_mode": {
    "name": "ipython",
    "version": 3
   },
   "file_extension": ".py",
   "mimetype": "text/x-python",
   "name": "python",
   "nbconvert_exporter": "python",
   "pygments_lexer": "ipython3",
   "version": "3.6.5"
  }
 },
 "nbformat": 4,
 "nbformat_minor": 2
}
